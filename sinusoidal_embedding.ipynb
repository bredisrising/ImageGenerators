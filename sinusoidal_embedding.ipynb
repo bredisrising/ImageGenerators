{
 "cells": [
  {
   "cell_type": "code",
   "execution_count": 1,
   "metadata": {},
   "outputs": [],
   "source": [
    "import torch"
   ]
  },
  {
   "cell_type": "code",
   "execution_count": 21,
   "metadata": {},
   "outputs": [],
   "source": [
    "def sinusoidal_embedding(timesteps, embedding_dim):\n",
    "    tensor_timesteps = torch.tensor(timesteps, dtype=torch.float32).unsqueeze(1)\n",
    "    half_dim = embedding_dim // 2\n",
    "    emb = 10000 ** (2 * torch.arange(half_dim) / (half_dim - 1))\n",
    "    #print(tensor_timesteps, emb)\n",
    "    emb = tensor_timesteps / emb\n",
    "    emb = torch.cat((torch.sin(emb), torch.cos(emb)), dim=-1)\n",
    "\n",
    "    return emb"
   ]
  },
  {
   "cell_type": "code",
   "execution_count": 22,
   "metadata": {},
   "outputs": [
    {
     "data": {
      "text/plain": [
       "tensor([[ 8.4147e-01,  7.1906e-02,  5.1794e-03,  3.7276e-04,  2.6827e-05,\n",
       "          1.9307e-06,  1.3895e-07,  1.0000e-08,  5.4030e-01,  9.9741e-01,\n",
       "          9.9999e-01,  1.0000e+00,  1.0000e+00,  1.0000e+00,  1.0000e+00,\n",
       "          1.0000e+00],\n",
       "        [-8.7330e-01,  9.6727e-01,  8.6032e-01,  7.4483e-02,  5.3654e-03,\n",
       "          3.8614e-04,  2.7790e-05,  2.0000e-06,  4.8719e-01, -2.5374e-01,\n",
       "          5.0976e-01,  9.9722e-01,  9.9999e-01,  1.0000e+00,  1.0000e+00,\n",
       "          1.0000e+00]])"
      ]
     },
     "execution_count": 22,
     "metadata": {},
     "output_type": "execute_result"
    }
   ],
   "source": [
    "sinusoidal_embedding([1, 200], 16)"
   ]
  },
  {
   "cell_type": "code",
   "execution_count": 17,
   "metadata": {},
   "outputs": [
    {
     "data": {
      "text/plain": [
       "tensor([0, 1, 2, 3, 4, 5, 6, 7])"
      ]
     },
     "execution_count": 17,
     "metadata": {},
     "output_type": "execute_result"
    }
   ],
   "source": [
    "embedding_dim = 16\n",
    "torch.arange(embedding_dim // 2)"
   ]
  },
  {
   "cell_type": "code",
   "execution_count": 12,
   "metadata": {},
   "outputs": [],
   "source": [
    "# stranger way\n",
    "timesteps = torch.tensor([5, 10, 15]).unsqueeze(1)\n",
    "\n",
    "half_dim = embedding_dim // 2\n",
    "\n",
    "emb = torch.arange(half_dim, dtype=torch.float32)\n",
    "emb = torch.exp(emb * -torch.log(torch.tensor(10000.0)) / (half_dim - 1))\n",
    "emb = timesteps[:, None] * emb[None, :]\n",
    "emb = torch.cat((torch.sin(emb), torch.cos(emb)), dim=-1)\n",
    "strange = emb"
   ]
  },
  {
   "cell_type": "code",
   "execution_count": 18,
   "metadata": {},
   "outputs": [],
   "source": [
    "# ez way\n",
    "timesteps = torch.tensor([5, 10, 15]).unsqueeze(1)\n",
    "\n",
    "half_dim = embedding_dim // 2\n",
    "emb = 10000 ** (torch.arange(half_dim, dtype=torch.float32) / (half_dim - 1))\n",
    "\n",
    "emb = timesteps / emb\n",
    "\n",
    "ez = torch.cat((torch.sin(emb), torch.cos(emb)), dim=-1)\n",
    "\n"
   ]
  },
  {
   "cell_type": "code",
   "execution_count": 27,
   "metadata": {},
   "outputs": [
    {
     "data": {
      "text/plain": [
       "torch.Size([16, 64, 64])"
      ]
     },
     "execution_count": 27,
     "metadata": {},
     "output_type": "execute_result"
    }
   ],
   "source": [
    "ez[0].unsqueeze(-1).unsqueeze(-1).expand((16, 64, 64)).shape"
   ]
  },
  {
   "cell_type": "code",
   "execution_count": 15,
   "metadata": {},
   "outputs": [
    {
     "data": {
      "text/plain": [
       "(tensor([-9.5892e-01,  9.7379e-01,  3.5213e-01,  9.6385e-02,  2.5894e-02,\n",
       "          6.9474e-03,  1.8638e-03,  5.0000e-04,  2.8366e-01,  2.2744e-01,\n",
       "          9.3595e-01,  9.9534e-01,  9.9966e-01,  9.9998e-01,  1.0000e+00,\n",
       "          1.0000e+00]),\n",
       " tensor([[-9.5892e-01,  9.7379e-01,  3.5213e-01,  9.6385e-02,  2.5894e-02,\n",
       "           6.9474e-03,  1.8638e-03,  5.0000e-04,  2.8366e-01,  2.2744e-01,\n",
       "           9.3595e-01,  9.9534e-01,  9.9966e-01,  9.9998e-01,  1.0000e+00,\n",
       "           1.0000e+00]]))"
      ]
     },
     "execution_count": 15,
     "metadata": {},
     "output_type": "execute_result"
    }
   ],
   "source": [
    "ez[0], strange[0]"
   ]
  }
 ],
 "metadata": {
  "kernelspec": {
   "display_name": "Python 3",
   "language": "python",
   "name": "python3"
  },
  "language_info": {
   "codemirror_mode": {
    "name": "ipython",
    "version": 3
   },
   "file_extension": ".py",
   "mimetype": "text/x-python",
   "name": "python",
   "nbconvert_exporter": "python",
   "pygments_lexer": "ipython3",
   "version": "3.11.9"
  }
 },
 "nbformat": 4,
 "nbformat_minor": 2
}
