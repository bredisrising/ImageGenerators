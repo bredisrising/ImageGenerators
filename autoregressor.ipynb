{
 "cells": [
  {
   "cell_type": "code",
   "execution_count": 1,
   "metadata": {},
   "outputs": [],
   "source": [
    "import sys\n",
    "import os\n",
    "\n",
    "# append to path root dir\n",
    "sys.path.append('../')"
   ]
  },
  {
   "cell_type": "code",
   "execution_count": 6,
   "metadata": {},
   "outputs": [],
   "source": [
    "import torch\n",
    "from torch import nn\n",
    "import numpy as np\n",
    "import matplotlib.pyplot as plt\n",
    "import dataset\n",
    "import importlib"
   ]
  },
  {
   "cell_type": "code",
   "execution_count": 14,
   "metadata": {},
   "outputs": [
    {
     "data": {
      "text/plain": [
       "<module 'dataset' from 'g:\\\\Dev\\\\AI\\\\Projects\\\\ImageGeneration\\\\dataset.py'>"
      ]
     },
     "execution_count": 14,
     "metadata": {},
     "output_type": "execute_result"
    }
   ],
   "source": [
    "import dataset\n",
    "importlib.reload(dataset)"
   ]
  },
  {
   "cell_type": "code",
   "execution_count": 15,
   "metadata": {},
   "outputs": [],
   "source": [
    "dataset = dataset.AudiAutoregression24px()\n",
    "dataloader = torch.utils.data.DataLoader(dataset, batch_size=16, shuffle=True)"
   ]
  },
  {
   "cell_type": "code",
   "execution_count": null,
   "metadata": {},
   "outputs": [],
   "source": []
  },
  {
   "cell_type": "code",
   "execution_count": 325,
   "metadata": {},
   "outputs": [],
   "source": [
    "bruv = dataset[0][0].view(3, 16, 16)\n",
    "bruv = bruv.permute(1, 2, 0)"
   ]
  },
  {
   "cell_type": "code",
   "execution_count": 326,
   "metadata": {},
   "outputs": [
    {
     "name": "stderr",
     "output_type": "stream",
     "text": [
      "Clipping input data to the valid range for imshow with RGB data ([0..1] for floats or [0..255] for integers).\n"
     ]
    },
    {
     "data": {
      "text/plain": [
       "<matplotlib.image.AxesImage at 0x222a509d3d0>"
      ]
     },
     "execution_count": 326,
     "metadata": {},
     "output_type": "execute_result"
    },
    {
     "data": {
      "image/png": "[encoded data removed]",
      "text/plain": [
       "<Figure size 640x480 with 1 Axes>"
      ]
     },
     "metadata": {},
     "output_type": "display_data"
    }
   ],
   "source": [
    "plt.imshow(bruv.numpy())"
   ]
  },
  {
   "cell_type": "code",
   "execution_count": 310,
   "metadata": {},
   "outputs": [
    {
     "data": {
      "text/plain": [
       "tensor([ 0.2078,  0.1686,  0.2157,  0.2275,  0.2627,  0.1098,  0.1255,  0.2118,\n",
       "         0.3255,  0.0941,  0.1647,  0.2118,  0.1451,  0.2078,  0.2706,  0.8353,\n",
       "         0.1490,  0.1765,  0.2471,  0.2078,  0.2392,  0.1843,  0.2000,  0.1490,\n",
       "         0.1804,  0.1725,  0.2118,  0.1333,  0.2000,  0.2118,  0.3059,  0.8784,\n",
       "         0.2000,  0.1373,  0.2196,  0.2235,  0.1961,  0.1216,  0.2275,  0.2627,\n",
       "         0.2824,  0.2745,  0.2510,  0.2431,  0.1765,  0.1176,  0.2902,  0.8510,\n",
       "        -1.0000,  0.0000,  0.0000,  0.0000,  0.0000,  0.0000,  0.0000,  0.0000,\n",
       "         0.0000,  0.0000,  0.0000,  0.0000,  0.0000,  0.0000,  0.0000,  0.0000,\n",
       "         0.0000,  0.0000,  0.0000,  0.0000,  0.0000,  0.0000,  0.0000,  0.0000,\n",
       "         0.0000,  0.0000,  0.0000,  0.0000,  0.0000,  0.0000,  0.0000,  0.0000,\n",
       "         0.0000,  0.0000,  0.0000,  0.0000,  0.0000,  0.0000,  0.0000,  0.0000,\n",
       "         0.0000,  0.0000,  0.0000,  0.0000,  0.0000,  0.0000,  0.0000,  0.0000,\n",
       "         0.0000,  0.0000,  0.0000,  0.0000,  0.0000,  0.0000,  0.0000,  0.0000,\n",
       "         0.0000,  0.0000,  0.0000,  0.0000,  0.0000,  0.0000,  0.0000,  0.0000,\n",
       "         0.0000,  0.0000,  0.0000,  0.0000,  0.0000,  0.0000,  0.0000,  0.0000,\n",
       "         0.0000,  0.0000,  0.0000,  0.0000,  0.0000,  0.0000,  0.0000,  0.0000,\n",
       "         0.0000,  0.0000,  0.0000,  0.0000,  0.0000,  0.0000,  0.0000,  0.0000,\n",
       "         0.0000,  0.0000,  0.0000,  0.0000,  0.0000,  0.0000,  0.0000,  0.0000,\n",
       "         0.0000,  0.0000,  0.0000,  0.0000,  0.0000,  0.0000,  0.0000,  0.0000,\n",
       "         0.0000,  0.0000,  0.0000,  0.0000,  0.0000,  0.0000,  0.0000,  0.0000,\n",
       "         0.0000,  0.0000,  0.0000,  0.0000,  0.0000,  0.0000,  0.0000,  0.0000,\n",
       "         0.0000,  0.0000,  0.0000,  0.0000,  0.0000,  0.0000,  0.0000,  0.0000,\n",
       "         0.0000,  0.0000,  0.0000,  0.0000,  0.0000,  0.0000,  0.0000,  0.0000,\n",
       "         0.0000,  0.0000,  0.0000,  0.0000,  0.0000,  0.0000,  0.0000,  0.0000,\n",
       "         0.0000,  0.0000,  0.0000,  0.0000,  0.0000,  0.0000,  0.0000,  0.0000,\n",
       "         0.0000,  0.0000,  0.0000,  0.0000,  0.0000,  0.0000,  0.0000,  0.0000,\n",
       "         0.0000,  0.0000,  0.0000,  0.0000,  0.0000,  0.0000,  0.0000,  0.0000,\n",
       "         0.0000,  0.0000,  0.0000,  0.0000,  0.0000,  0.0000,  0.0000,  0.0000,\n",
       "         0.0000,  0.0000,  0.0000,  0.0000,  0.0000,  0.0000,  0.0000,  0.0000,\n",
       "         0.0000,  0.0000,  0.0000,  0.0000,  0.0000,  0.0000,  0.0000,  0.0000,\n",
       "         0.0000,  0.0000,  0.0000,  0.0000,  0.0000,  0.0000,  0.0000,  0.0000,\n",
       "         0.0000,  0.0000,  0.0000,  0.0000,  0.0000,  0.0000,  0.0000,  0.0000])"
      ]
     },
     "execution_count": 310,
     "metadata": {},
     "output_type": "execute_result"
    }
   ],
   "source": [
    "dataset[0][0][:256]"
   ]
  },
  {
   "cell_type": "code",
   "execution_count": 9,
   "metadata": {},
   "outputs": [],
   "source": [
    "class Generator(nn.Module):\n",
    "    def __init__(self, hidden_neurons):\n",
    "        super().__init__()\n",
    "        self.model = nn.Sequential(\n",
    "            nn.Linear(3*24*24, hidden_neurons),\n",
    "            nn.ReLU(),\n",
    "            nn.Linear(hidden_neurons, hidden_neurons),\n",
    "            nn.ReLU(),\n",
    "            nn.Linear(hidden_neurons, hidden_neurons),\n",
    "            nn.ReLU(),\n",
    "            nn.Linear(hidden_neurons, hidden_neurons),\n",
    "            nn.ReLU(),\n",
    "            nn.Linear(hidden_neurons, 3),\n",
    "            nn.Sigmoid()\n",
    "        )\n",
    "\n",
    "    def forward(self, x):\n",
    "        return self.model(x)"
   ]
  },
  {
   "cell_type": "code",
   "execution_count": 10,
   "metadata": {},
   "outputs": [],
   "source": [
    "DEVICE = 'cuda'"
   ]
  },
  {
   "cell_type": "code",
   "execution_count": 11,
   "metadata": {},
   "outputs": [],
   "source": [
    "nnet = Generator(512).to(DEVICE)\n",
    "criterion = nn.MSELoss().to(DEVICE)\n",
    "optimizer = torch.optim.Adam(nnet.parameters())"
   ]
  },
  {
   "cell_type": "code",
   "execution_count": 613,
   "metadata": {},
   "outputs": [],
   "source": [
    "optimizer = torch.optim.Adam(nnet.parameters(), lr=0.0001)"
   ]
  },
  {
   "cell_type": "code",
   "execution_count": 12,
   "metadata": {},
   "outputs": [],
   "source": [
    "losses = []"
   ]
  },
  {
   "cell_type": "code",
   "execution_count": 16,
   "metadata": {},
   "outputs": [
    {
     "name": "stdout",
     "output_type": "stream",
     "text": [
      "164 0.024754976853728294 0.027770987693220377\r"
     ]
    },
    {
     "ename": "KeyboardInterrupt",
     "evalue": "",
     "output_type": "error",
     "traceback": [
      "\u001b[1;31m---------------------------------------------------------------------------\u001b[0m",
      "\u001b[1;31mKeyboardInterrupt\u001b[0m                         Traceback (most recent call last)",
      "Cell \u001b[1;32mIn[16], line 2\u001b[0m\n\u001b[0;32m      1\u001b[0m \u001b[38;5;28;01mfor\u001b[39;00m epoch \u001b[38;5;129;01min\u001b[39;00m \u001b[38;5;28mrange\u001b[39m(\u001b[38;5;241m10000\u001b[39m):\n\u001b[1;32m----> 2\u001b[0m     \u001b[38;5;28;01mfor\u001b[39;00m i, batch \u001b[38;5;129;01min\u001b[39;00m \u001b[38;5;28menumerate\u001b[39m(dataloader):\n\u001b[0;32m      3\u001b[0m         output \u001b[38;5;241m=\u001b[39m nnet(batch[\u001b[38;5;241m0\u001b[39m]\u001b[38;5;241m.\u001b[39mto(DEVICE))\n\u001b[0;32m      4\u001b[0m         target \u001b[38;5;241m=\u001b[39m batch[\u001b[38;5;241m1\u001b[39m]\u001b[38;5;241m.\u001b[39mto(DEVICE)\n",
      "File \u001b[1;32md:\\PythonLang\\Py3-11-2\\Lib\\site-packages\\torch\\utils\\data\\dataloader.py:634\u001b[0m, in \u001b[0;36m_BaseDataLoaderIter.__next__\u001b[1;34m(self)\u001b[0m\n\u001b[0;32m    631\u001b[0m \u001b[38;5;28;01mif\u001b[39;00m \u001b[38;5;28mself\u001b[39m\u001b[38;5;241m.\u001b[39m_sampler_iter \u001b[38;5;129;01mis\u001b[39;00m \u001b[38;5;28;01mNone\u001b[39;00m:\n\u001b[0;32m    632\u001b[0m     \u001b[38;5;66;03m# TODO(https://github.com/pytorch/pytorch/issues/76750)\u001b[39;00m\n\u001b[0;32m    633\u001b[0m     \u001b[38;5;28mself\u001b[39m\u001b[38;5;241m.\u001b[39m_reset()  \u001b[38;5;66;03m# type: ignore[call-arg]\u001b[39;00m\n\u001b[1;32m--> 634\u001b[0m data \u001b[38;5;241m=\u001b[39m \u001b[38;5;28;43mself\u001b[39;49m\u001b[38;5;241;43m.\u001b[39;49m\u001b[43m_next_data\u001b[49m\u001b[43m(\u001b[49m\u001b[43m)\u001b[49m\n\u001b[0;32m    635\u001b[0m \u001b[38;5;28mself\u001b[39m\u001b[38;5;241m.\u001b[39m_num_yielded \u001b[38;5;241m+\u001b[39m\u001b[38;5;241m=\u001b[39m \u001b[38;5;241m1\u001b[39m\n\u001b[0;32m    636\u001b[0m \u001b[38;5;28;01mif\u001b[39;00m \u001b[38;5;28mself\u001b[39m\u001b[38;5;241m.\u001b[39m_dataset_kind \u001b[38;5;241m==\u001b[39m _DatasetKind\u001b[38;5;241m.\u001b[39mIterable \u001b[38;5;129;01mand\u001b[39;00m \\\n\u001b[0;32m    637\u001b[0m         \u001b[38;5;28mself\u001b[39m\u001b[38;5;241m.\u001b[39m_IterableDataset_len_called \u001b[38;5;129;01mis\u001b[39;00m \u001b[38;5;129;01mnot\u001b[39;00m \u001b[38;5;28;01mNone\u001b[39;00m \u001b[38;5;129;01mand\u001b[39;00m \\\n\u001b[0;32m    638\u001b[0m         \u001b[38;5;28mself\u001b[39m\u001b[38;5;241m.\u001b[39m_num_yielded \u001b[38;5;241m>\u001b[39m \u001b[38;5;28mself\u001b[39m\u001b[38;5;241m.\u001b[39m_IterableDataset_len_called:\n",
      "File \u001b[1;32md:\\PythonLang\\Py3-11-2\\Lib\\site-packages\\torch\\utils\\data\\dataloader.py:678\u001b[0m, in \u001b[0;36m_SingleProcessDataLoaderIter._next_data\u001b[1;34m(self)\u001b[0m\n\u001b[0;32m    676\u001b[0m \u001b[38;5;28;01mdef\u001b[39;00m \u001b[38;5;21m_next_data\u001b[39m(\u001b[38;5;28mself\u001b[39m):\n\u001b[0;32m    677\u001b[0m     index \u001b[38;5;241m=\u001b[39m \u001b[38;5;28mself\u001b[39m\u001b[38;5;241m.\u001b[39m_next_index()  \u001b[38;5;66;03m# may raise StopIteration\u001b[39;00m\n\u001b[1;32m--> 678\u001b[0m     data \u001b[38;5;241m=\u001b[39m \u001b[38;5;28;43mself\u001b[39;49m\u001b[38;5;241;43m.\u001b[39;49m\u001b[43m_dataset_fetcher\u001b[49m\u001b[38;5;241;43m.\u001b[39;49m\u001b[43mfetch\u001b[49m\u001b[43m(\u001b[49m\u001b[43mindex\u001b[49m\u001b[43m)\u001b[49m  \u001b[38;5;66;03m# may raise StopIteration\u001b[39;00m\n\u001b[0;32m    679\u001b[0m     \u001b[38;5;28;01mif\u001b[39;00m \u001b[38;5;28mself\u001b[39m\u001b[38;5;241m.\u001b[39m_pin_memory:\n\u001b[0;32m    680\u001b[0m         data \u001b[38;5;241m=\u001b[39m _utils\u001b[38;5;241m.\u001b[39mpin_memory\u001b[38;5;241m.\u001b[39mpin_memory(data, \u001b[38;5;28mself\u001b[39m\u001b[38;5;241m.\u001b[39m_pin_memory_device)\n",
      "File \u001b[1;32md:\\PythonLang\\Py3-11-2\\Lib\\site-packages\\torch\\utils\\data\\_utils\\fetch.py:51\u001b[0m, in \u001b[0;36m_MapDatasetFetcher.fetch\u001b[1;34m(self, possibly_batched_index)\u001b[0m\n\u001b[0;32m     49\u001b[0m         data \u001b[38;5;241m=\u001b[39m \u001b[38;5;28mself\u001b[39m\u001b[38;5;241m.\u001b[39mdataset\u001b[38;5;241m.\u001b[39m__getitems__(possibly_batched_index)\n\u001b[0;32m     50\u001b[0m     \u001b[38;5;28;01melse\u001b[39;00m:\n\u001b[1;32m---> 51\u001b[0m         data \u001b[38;5;241m=\u001b[39m \u001b[43m[\u001b[49m\u001b[38;5;28;43mself\u001b[39;49m\u001b[38;5;241;43m.\u001b[39;49m\u001b[43mdataset\u001b[49m\u001b[43m[\u001b[49m\u001b[43midx\u001b[49m\u001b[43m]\u001b[49m\u001b[43m \u001b[49m\u001b[38;5;28;43;01mfor\u001b[39;49;00m\u001b[43m \u001b[49m\u001b[43midx\u001b[49m\u001b[43m \u001b[49m\u001b[38;5;129;43;01min\u001b[39;49;00m\u001b[43m \u001b[49m\u001b[43mpossibly_batched_index\u001b[49m\u001b[43m]\u001b[49m\n\u001b[0;32m     52\u001b[0m \u001b[38;5;28;01melse\u001b[39;00m:\n\u001b[0;32m     53\u001b[0m     data \u001b[38;5;241m=\u001b[39m \u001b[38;5;28mself\u001b[39m\u001b[38;5;241m.\u001b[39mdataset[possibly_batched_index]\n",
      "File \u001b[1;32md:\\PythonLang\\Py3-11-2\\Lib\\site-packages\\torch\\utils\\data\\_utils\\fetch.py:51\u001b[0m, in \u001b[0;36m<listcomp>\u001b[1;34m(.0)\u001b[0m\n\u001b[0;32m     49\u001b[0m         data \u001b[38;5;241m=\u001b[39m \u001b[38;5;28mself\u001b[39m\u001b[38;5;241m.\u001b[39mdataset\u001b[38;5;241m.\u001b[39m__getitems__(possibly_batched_index)\n\u001b[0;32m     50\u001b[0m     \u001b[38;5;28;01melse\u001b[39;00m:\n\u001b[1;32m---> 51\u001b[0m         data \u001b[38;5;241m=\u001b[39m [\u001b[38;5;28;43mself\u001b[39;49m\u001b[38;5;241;43m.\u001b[39;49m\u001b[43mdataset\u001b[49m\u001b[43m[\u001b[49m\u001b[43midx\u001b[49m\u001b[43m]\u001b[49m \u001b[38;5;28;01mfor\u001b[39;00m idx \u001b[38;5;129;01min\u001b[39;00m possibly_batched_index]\n\u001b[0;32m     52\u001b[0m \u001b[38;5;28;01melse\u001b[39;00m:\n\u001b[0;32m     53\u001b[0m     data \u001b[38;5;241m=\u001b[39m \u001b[38;5;28mself\u001b[39m\u001b[38;5;241m.\u001b[39mdataset[possibly_batched_index]\n",
      "File \u001b[1;32mg:\\Dev\\AI\\Projects\\ImageGeneration\\dataset.py:17\u001b[0m, in \u001b[0;36mAudiAutoregression24px.__getitem__\u001b[1;34m(self, index)\u001b[0m\n\u001b[0;32m     14\u001b[0m \u001b[38;5;28;01mdef\u001b[39;00m \u001b[38;5;21m__getitem__\u001b[39m(\u001b[38;5;28mself\u001b[39m, index):\n\u001b[0;32m     15\u001b[0m     \u001b[38;5;66;03m# load image\u001b[39;00m\n\u001b[0;32m     16\u001b[0m     x \u001b[38;5;241m=\u001b[39m Image\u001b[38;5;241m.\u001b[39mopen(\u001b[38;5;124mf\u001b[39m\u001b[38;5;124m'\u001b[39m\u001b[38;5;124m./data/cars/all_processed_24px/\u001b[39m\u001b[38;5;132;01m{\u001b[39;00mindex\u001b[38;5;241m+\u001b[39m\u001b[38;5;241m1\u001b[39m\u001b[38;5;132;01m}\u001b[39;00m\u001b[38;5;124m.jpg\u001b[39m\u001b[38;5;124m'\u001b[39m)\n\u001b[1;32m---> 17\u001b[0m     x \u001b[38;5;241m=\u001b[39m \u001b[38;5;28;43mself\u001b[39;49m\u001b[38;5;241;43m.\u001b[39;49m\u001b[43mtransform\u001b[49m\u001b[43m(\u001b[49m\u001b[43mx\u001b[49m\u001b[43m)\u001b[49m\n\u001b[0;32m     18\u001b[0m     x \u001b[38;5;241m=\u001b[39m torch\u001b[38;5;241m.\u001b[39mreshape(x, (\u001b[38;5;241m3\u001b[39m, \u001b[38;5;241m24\u001b[39m\u001b[38;5;241m*\u001b[39m\u001b[38;5;241m24\u001b[39m))\n\u001b[0;32m     19\u001b[0m     \u001b[38;5;66;03m# x = torch.flatten(x)\u001b[39;00m\n",
      "File \u001b[1;32md:\\PythonLang\\Py3-11-2\\Lib\\site-packages\\torchvision\\transforms\\transforms.py:95\u001b[0m, in \u001b[0;36mCompose.__call__\u001b[1;34m(self, img)\u001b[0m\n\u001b[0;32m     93\u001b[0m \u001b[38;5;28;01mdef\u001b[39;00m \u001b[38;5;21m__call__\u001b[39m(\u001b[38;5;28mself\u001b[39m, img):\n\u001b[0;32m     94\u001b[0m     \u001b[38;5;28;01mfor\u001b[39;00m t \u001b[38;5;129;01min\u001b[39;00m \u001b[38;5;28mself\u001b[39m\u001b[38;5;241m.\u001b[39mtransforms:\n\u001b[1;32m---> 95\u001b[0m         img \u001b[38;5;241m=\u001b[39m \u001b[43mt\u001b[49m\u001b[43m(\u001b[49m\u001b[43mimg\u001b[49m\u001b[43m)\u001b[49m\n\u001b[0;32m     96\u001b[0m     \u001b[38;5;28;01mreturn\u001b[39;00m img\n",
      "File \u001b[1;32md:\\PythonLang\\Py3-11-2\\Lib\\site-packages\\torchvision\\transforms\\transforms.py:137\u001b[0m, in \u001b[0;36mToTensor.__call__\u001b[1;34m(self, pic)\u001b[0m\n\u001b[0;32m    129\u001b[0m \u001b[38;5;28;01mdef\u001b[39;00m \u001b[38;5;21m__call__\u001b[39m(\u001b[38;5;28mself\u001b[39m, pic):\n\u001b[0;32m    130\u001b[0m \u001b[38;5;250m    \u001b[39m\u001b[38;5;124;03m\"\"\"\u001b[39;00m\n\u001b[0;32m    131\u001b[0m \u001b[38;5;124;03m    Args:\u001b[39;00m\n\u001b[0;32m    132\u001b[0m \u001b[38;5;124;03m        pic (PIL Image or numpy.ndarray): Image to be converted to tensor.\u001b[39;00m\n\u001b[1;32m   (...)\u001b[0m\n\u001b[0;32m    135\u001b[0m \u001b[38;5;124;03m        Tensor: Converted image.\u001b[39;00m\n\u001b[0;32m    136\u001b[0m \u001b[38;5;124;03m    \"\"\"\u001b[39;00m\n\u001b[1;32m--> 137\u001b[0m     \u001b[38;5;28;01mreturn\u001b[39;00m \u001b[43mF\u001b[49m\u001b[38;5;241;43m.\u001b[39;49m\u001b[43mto_tensor\u001b[49m\u001b[43m(\u001b[49m\u001b[43mpic\u001b[49m\u001b[43m)\u001b[49m\n",
      "File \u001b[1;32md:\\PythonLang\\Py3-11-2\\Lib\\site-packages\\torchvision\\transforms\\functional.py:166\u001b[0m, in \u001b[0;36mto_tensor\u001b[1;34m(pic)\u001b[0m\n\u001b[0;32m    164\u001b[0m \u001b[38;5;66;03m# handle PIL Image\u001b[39;00m\n\u001b[0;32m    165\u001b[0m mode_to_nptype \u001b[38;5;241m=\u001b[39m {\u001b[38;5;124m\"\u001b[39m\u001b[38;5;124mI\u001b[39m\u001b[38;5;124m\"\u001b[39m: np\u001b[38;5;241m.\u001b[39mint32, \u001b[38;5;124m\"\u001b[39m\u001b[38;5;124mI;16\u001b[39m\u001b[38;5;124m\"\u001b[39m: np\u001b[38;5;241m.\u001b[39mint16, \u001b[38;5;124m\"\u001b[39m\u001b[38;5;124mF\u001b[39m\u001b[38;5;124m\"\u001b[39m: np\u001b[38;5;241m.\u001b[39mfloat32}\n\u001b[1;32m--> 166\u001b[0m img \u001b[38;5;241m=\u001b[39m torch\u001b[38;5;241m.\u001b[39mfrom_numpy(np\u001b[38;5;241m.\u001b[39marray(pic, mode_to_nptype\u001b[38;5;241m.\u001b[39mget(pic\u001b[38;5;241m.\u001b[39mmode, np\u001b[38;5;241m.\u001b[39muint8), copy\u001b[38;5;241m=\u001b[39m\u001b[38;5;28;01mTrue\u001b[39;00m))\n\u001b[0;32m    168\u001b[0m \u001b[38;5;28;01mif\u001b[39;00m pic\u001b[38;5;241m.\u001b[39mmode \u001b[38;5;241m==\u001b[39m \u001b[38;5;124m\"\u001b[39m\u001b[38;5;124m1\u001b[39m\u001b[38;5;124m\"\u001b[39m:\n\u001b[0;32m    169\u001b[0m     img \u001b[38;5;241m=\u001b[39m \u001b[38;5;241m255\u001b[39m \u001b[38;5;241m*\u001b[39m img\n",
      "File \u001b[1;32md:\\PythonLang\\Py3-11-2\\Lib\\site-packages\\PIL\\Image.py:688\u001b[0m, in \u001b[0;36mImage.__array_interface__\u001b[1;34m(self)\u001b[0m\n\u001b[0;32m    686\u001b[0m         new[\u001b[38;5;124m\"\u001b[39m\u001b[38;5;124mdata\u001b[39m\u001b[38;5;124m\"\u001b[39m] \u001b[38;5;241m=\u001b[39m \u001b[38;5;28mself\u001b[39m\u001b[38;5;241m.\u001b[39mtobytes(\u001b[38;5;124m\"\u001b[39m\u001b[38;5;124mraw\u001b[39m\u001b[38;5;124m\"\u001b[39m, \u001b[38;5;124m\"\u001b[39m\u001b[38;5;124mL\u001b[39m\u001b[38;5;124m\"\u001b[39m)\n\u001b[0;32m    687\u001b[0m     \u001b[38;5;28;01melse\u001b[39;00m:\n\u001b[1;32m--> 688\u001b[0m         new[\u001b[38;5;124m\"\u001b[39m\u001b[38;5;124mdata\u001b[39m\u001b[38;5;124m\"\u001b[39m] \u001b[38;5;241m=\u001b[39m \u001b[38;5;28;43mself\u001b[39;49m\u001b[38;5;241;43m.\u001b[39;49m\u001b[43mtobytes\u001b[49m\u001b[43m(\u001b[49m\u001b[43m)\u001b[49m\n\u001b[0;32m    689\u001b[0m \u001b[38;5;28;01mexcept\u001b[39;00m \u001b[38;5;167;01mException\u001b[39;00m \u001b[38;5;28;01mas\u001b[39;00m e:\n\u001b[0;32m    690\u001b[0m     \u001b[38;5;28;01mif\u001b[39;00m \u001b[38;5;129;01mnot\u001b[39;00m \u001b[38;5;28misinstance\u001b[39m(e, (\u001b[38;5;167;01mMemoryError\u001b[39;00m, \u001b[38;5;167;01mRecursionError\u001b[39;00m)):\n",
      "File \u001b[1;32md:\\PythonLang\\Py3-11-2\\Lib\\site-packages\\PIL\\Image.py:746\u001b[0m, in \u001b[0;36mImage.tobytes\u001b[1;34m(self, encoder_name, *args)\u001b[0m\n\u001b[0;32m    743\u001b[0m \u001b[38;5;28;01mif\u001b[39;00m encoder_name \u001b[38;5;241m==\u001b[39m \u001b[38;5;124m\"\u001b[39m\u001b[38;5;124mraw\u001b[39m\u001b[38;5;124m\"\u001b[39m \u001b[38;5;129;01mand\u001b[39;00m args \u001b[38;5;241m==\u001b[39m ():\n\u001b[0;32m    744\u001b[0m     args \u001b[38;5;241m=\u001b[39m \u001b[38;5;28mself\u001b[39m\u001b[38;5;241m.\u001b[39mmode\n\u001b[1;32m--> 746\u001b[0m \u001b[38;5;28;43mself\u001b[39;49m\u001b[38;5;241;43m.\u001b[39;49m\u001b[43mload\u001b[49m\u001b[43m(\u001b[49m\u001b[43m)\u001b[49m\n\u001b[0;32m    748\u001b[0m \u001b[38;5;28;01mif\u001b[39;00m \u001b[38;5;28mself\u001b[39m\u001b[38;5;241m.\u001b[39mwidth \u001b[38;5;241m==\u001b[39m \u001b[38;5;241m0\u001b[39m \u001b[38;5;129;01mor\u001b[39;00m \u001b[38;5;28mself\u001b[39m\u001b[38;5;241m.\u001b[39mheight \u001b[38;5;241m==\u001b[39m \u001b[38;5;241m0\u001b[39m:\n\u001b[0;32m    749\u001b[0m     \u001b[38;5;28;01mreturn\u001b[39;00m \u001b[38;5;124mb\u001b[39m\u001b[38;5;124m\"\u001b[39m\u001b[38;5;124m\"\u001b[39m\n",
      "File \u001b[1;32md:\\PythonLang\\Py3-11-2\\Lib\\site-packages\\PIL\\ImageFile.py:274\u001b[0m, in \u001b[0;36mImageFile.load\u001b[1;34m(self)\u001b[0m\n\u001b[0;32m    271\u001b[0m \u001b[38;5;28mself\u001b[39m\u001b[38;5;241m.\u001b[39mload_end()\n\u001b[0;32m    273\u001b[0m \u001b[38;5;28;01mif\u001b[39;00m \u001b[38;5;28mself\u001b[39m\u001b[38;5;241m.\u001b[39m_exclusive_fp \u001b[38;5;129;01mand\u001b[39;00m \u001b[38;5;28mself\u001b[39m\u001b[38;5;241m.\u001b[39m_close_exclusive_fp_after_loading:\n\u001b[1;32m--> 274\u001b[0m     \u001b[38;5;28mself\u001b[39m\u001b[38;5;241m.\u001b[39mfp\u001b[38;5;241m.\u001b[39mclose()\n\u001b[0;32m    275\u001b[0m \u001b[38;5;28mself\u001b[39m\u001b[38;5;241m.\u001b[39mfp \u001b[38;5;241m=\u001b[39m \u001b[38;5;28;01mNone\u001b[39;00m\n\u001b[0;32m    277\u001b[0m \u001b[38;5;28;01mif\u001b[39;00m \u001b[38;5;129;01mnot\u001b[39;00m \u001b[38;5;28mself\u001b[39m\u001b[38;5;241m.\u001b[39mmap \u001b[38;5;129;01mand\u001b[39;00m \u001b[38;5;129;01mnot\u001b[39;00m LOAD_TRUNCATED_IMAGES \u001b[38;5;129;01mand\u001b[39;00m err_code \u001b[38;5;241m<\u001b[39m \u001b[38;5;241m0\u001b[39m:\n\u001b[0;32m    278\u001b[0m     \u001b[38;5;66;03m# still raised if decoder fails to return anything\u001b[39;00m\n",
      "\u001b[1;31mKeyboardInterrupt\u001b[0m: "
     ]
    }
   ],
   "source": [
    "for epoch in range(10000):\n",
    "    for i, batch in enumerate(dataloader):\n",
    "        output = nnet(batch[0].to(DEVICE))\n",
    "        target = batch[1].to(DEVICE)\n",
    "\n",
    "        loss = criterion(output.squeeze(), target)\n",
    "        optimizer.zero_grad()\n",
    "        loss.backward()\n",
    "        optimizer.step()\n",
    "\n",
    "        losses.append(loss.item())\n",
    "        if len(losses) > 100:\n",
    "            losses.pop(0)\n",
    "        \n",
    "        avg_loss = sum(losses) / len(losses)\n",
    "\n",
    "        print(epoch, loss.item(), avg_loss, end=\"\\r\")"
   ]
  },
  {
   "cell_type": "code",
   "execution_count": 17,
   "metadata": {},
   "outputs": [],
   "source": [
    "nnet = nnet.to(\"cpu\")"
   ]
  },
  {
   "cell_type": "code",
   "execution_count": 27,
   "metadata": {},
   "outputs": [],
   "source": [
    "# generate an image\n",
    "image = torch.zeros((3, 24*24))\n",
    "\n",
    "image[0] = 0\n",
    "image[1] = 0\n",
    "image[2] = 0\n",
    "\n",
    "\n",
    "index = 1\n",
    "initial_index = index"
   ]
  },
  {
   "cell_type": "code",
   "execution_count": 28,
   "metadata": {},
   "outputs": [],
   "source": [
    "import time"
   ]
  },
  {
   "cell_type": "code",
   "execution_count": 29,
   "metadata": {},
   "outputs": [
    {
     "name": "stdout",
     "output_type": "stream",
     "text": [
      "574\r"
     ]
    },
    {
     "data": {
      "text/plain": [
       "<matplotlib.image.AxesImage at 0x18dcbf68a90>"
      ]
     },
     "execution_count": 29,
     "metadata": {},
     "output_type": "execute_result"
    },
    {
     "data": {
      "image/png": "[encoded data removed]",
      "text/plain": [
       "<Figure size 640x480 with 1 Axes>"
      ]
     },
     "metadata": {},
     "output_type": "display_data"
    }
   ],
   "source": [
    "for i in range(24*24 - initial_index):\n",
    "    image[0][index] = -1.0\n",
    "    image[1][index] = -1.0\n",
    "    image[2][index] = -1.0\n",
    "\n",
    "    output = nnet(torch.flatten(image))\n",
    "\n",
    "    image[0][index] = output[0]\n",
    "    image[1][index] = output[1]\n",
    "    image[2][index] = output[2]\n",
    "\n",
    "    index += 1\n",
    "\n",
    "    flattened = torch.flatten(image)\n",
    "    bruv = flattened.view(3, 24, 24)\n",
    "    bruv = bruv.permute(1, 2, 0)\n",
    "    print(i, end=\"\\r\")\n",
    "plt.imshow(bruv.detach().numpy())\n"
   ]
  },
  {
   "cell_type": "code",
   "execution_count": 618,
   "metadata": {},
   "outputs": [
    {
     "data": {
      "text/plain": [
       "tensor([[0.5902, 0.5875, 0.5739, 0.5679, 0.5676, 0.5594, 0.5466, 0.5281, 0.5047,\n",
       "         0.5097, 0.4920, 0.4769, 0.4772, 0.4900, 0.4794, 0.4604, 0.5770, 0.5673,\n",
       "         0.5682, 0.5651, 0.5473, 0.5373, 0.5122, 0.4966, 0.4971, 0.4813, 0.4835,\n",
       "         0.4602, 0.4384, 0.4839, 0.4657, 0.4226, 0.5071, 0.5324, 0.5219, 0.5197,\n",
       "         0.4970, 0.4847, 0.4747, 0.4827, 0.4404, 0.3971, 0.4319, 0.4308, 0.4227,\n",
       "         0.4172, 0.4128, 0.3770, 0.4850, 0.4661, 0.4700, 0.4745, 0.4427, 0.4030,\n",
       "         0.4016, 0.4262, 0.3763, 0.3756, 0.3804, 0.3887, 0.3872, 0.3759, 0.3706,\n",
       "         0.3646, 0.4855, 0.4799, 0.4594, 0.4552, 0.4426, 0.4049, 0.3558, 0.3582,\n",
       "         0.3474, 0.3488, 0.3535, 0.3591, 0.3903, 0.3700, 0.3661, 0.3422, 0.4326,\n",
       "         0.4036, 0.4214, 0.4182, 0.4639, 0.4478, 0.3656, 0.3600, 0.3763, 0.3635,\n",
       "         0.3796, 0.3939, 0.4336, 0.4009, 0.3620, 0.3166, 0.4165, 0.4141, 0.4522,\n",
       "         0.4256, 0.4764, 0.4538, 0.4750, 0.4182, 0.3881, 0.3678, 0.3744, 0.4153,\n",
       "         0.4046, 0.4018, 0.3710, 0.3324, 0.4207, 0.4210, 0.4319, 0.4555, 0.4771,\n",
       "         0.4217, 0.4589, 0.4431, 0.4018, 0.4065, 0.3787, 0.4015, 0.4084, 0.3696,\n",
       "         0.3801, 0.3526, 0.4435, 0.3962, 0.3619, 0.3845, 0.3491, 0.3497, 0.3656,\n",
       "         0.3672, 0.3839, 0.3481, 0.3417, 0.3266, 0.3745, 0.3858, 0.3777, 0.4093,\n",
       "         0.4153, 0.3142, 0.3263, 0.3318, 0.3236, 0.3119, 0.3007, 0.3091, 0.3057,\n",
       "         0.2967, 0.2993, 0.3154, 0.3198, 0.3253, 0.3506, 0.4030, 0.4133, 0.3622,\n",
       "         0.2954, 0.2727, 0.2768, 0.2962, 0.2822, 0.2685, 0.2623, 0.2615, 0.2624,\n",
       "         0.2760, 0.2824, 0.3103, 0.3543, 0.4123, 0.4312, 0.4099, 0.2826, 0.2289,\n",
       "         0.2366, 0.2425, 0.2330, 0.2275, 0.2170, 0.2300, 0.2364, 0.2342, 0.2321,\n",
       "         0.2888, 0.3584, 0.4749, 0.5187, 0.4406, 0.3214, 0.2664, 0.2589, 0.2202,\n",
       "         0.2005, 0.1954, 0.1906, 0.1909, 0.1937, 0.1933, 0.2246, 0.2920, 0.4061,\n",
       "         0.4382, 0.4616, 0.4338, 0.3964, 0.3488, 0.3163, 0.2695, 0.2413, 0.2010,\n",
       "         0.2051, 0.2224, 0.2927, 0.3059, 0.3346, 0.3861, 0.4161, 0.4519, 0.4626,\n",
       "         0.4563, 0.4248, 0.4318, 0.4146, 0.3579, 0.3338, 0.2869, 0.2915, 0.3270,\n",
       "         0.3657, 0.3709, 0.3837, 0.3962, 0.4235, 0.4230, 0.4323, 0.4425, 0.4318,\n",
       "         0.4143, 0.4125, 0.3969, 0.3903, 0.3827, 0.3789, 0.3892, 0.3938, 0.3880,\n",
       "         0.3926, 0.3984, 0.4124, 0.7272],\n",
       "        [0.5879, 0.5861, 0.5749, 0.5671, 0.5679, 0.5580, 0.5450, 0.5260, 0.5021,\n",
       "         0.5045, 0.4932, 0.4699, 0.4645, 0.4689, 0.4537, 0.4376, 0.5659, 0.5592,\n",
       "         0.5711, 0.5621, 0.5402, 0.5399, 0.5148, 0.4965, 0.4972, 0.4836, 0.4832,\n",
       "         0.4526, 0.4310, 0.4755, 0.4467, 0.3986, 0.5019, 0.5200, 0.5185, 0.5109,\n",
       "         0.4942, 0.4836, 0.4756, 0.4860, 0.4464, 0.4100, 0.4408, 0.4308, 0.4252,\n",
       "         0.4114, 0.4040, 0.3660, 0.4785, 0.4595, 0.4718, 0.4731, 0.4433, 0.4126,\n",
       "         0.4205, 0.4378, 0.3842, 0.3804, 0.3816, 0.3851, 0.3785, 0.3692, 0.3653,\n",
       "         0.3573, 0.4817, 0.4770, 0.4612, 0.4612, 0.4471, 0.4090, 0.3609, 0.3714,\n",
       "         0.3725, 0.3617, 0.3660, 0.3605, 0.3892, 0.3683, 0.3605, 0.3353, 0.4267,\n",
       "         0.3992, 0.4175, 0.4243, 0.4696, 0.4534, 0.3845, 0.3945, 0.3885, 0.3796,\n",
       "         0.3894, 0.3991, 0.4327, 0.4001, 0.3581, 0.3117, 0.4013, 0.4003, 0.4464,\n",
       "         0.4207, 0.4842, 0.4659, 0.4847, 0.4487, 0.4256, 0.4086, 0.4031, 0.4403,\n",
       "         0.4167, 0.4062, 0.3734, 0.3213, 0.4128, 0.4190, 0.4398, 0.4721, 0.4964,\n",
       "         0.4410, 0.4838, 0.4740, 0.4301, 0.4387, 0.4126, 0.4231, 0.4118, 0.3696,\n",
       "         0.3720, 0.3408, 0.4155, 0.3793, 0.3530, 0.3729, 0.3508, 0.3565, 0.3766,\n",
       "         0.3839, 0.4005, 0.3524, 0.3386, 0.3231, 0.3540, 0.3687, 0.3635, 0.3998,\n",
       "         0.4084, 0.3131, 0.3225, 0.3266, 0.3256, 0.3169, 0.3013, 0.3100, 0.3124,\n",
       "         0.2965, 0.3001, 0.3171, 0.3197, 0.3271, 0.3420, 0.3930, 0.4059, 0.3520,\n",
       "         0.2926, 0.2704, 0.2759, 0.2957, 0.2816, 0.2696, 0.2640, 0.2623, 0.2655,\n",
       "         0.2759, 0.2807, 0.3115, 0.3568, 0.4115, 0.4303, 0.3863, 0.2840, 0.2295,\n",
       "         0.2362, 0.2434, 0.2291, 0.2297, 0.2168, 0.2311, 0.2394, 0.2370, 0.2346,\n",
       "         0.2866, 0.3555, 0.4632, 0.5040, 0.4337, 0.3197, 0.2631, 0.2576, 0.2191,\n",
       "         0.1940, 0.1880, 0.1829, 0.1861, 0.1907, 0.1900, 0.2179, 0.2846, 0.4012,\n",
       "         0.4323, 0.4506, 0.4236, 0.3829, 0.3375, 0.3081, 0.2621, 0.2381, 0.1993,\n",
       "         0.2002, 0.2166, 0.2765, 0.2901, 0.3142, 0.3593, 0.3930, 0.4293, 0.4323,\n",
       "         0.4346, 0.4044, 0.4196, 0.4097, 0.3503, 0.3257, 0.2824, 0.2859, 0.3235,\n",
       "         0.3583, 0.3628, 0.3740, 0.3877, 0.4090, 0.4121, 0.4186, 0.4276, 0.4188,\n",
       "         0.4058, 0.4011, 0.3907, 0.3832, 0.3772, 0.3745, 0.3805, 0.3838, 0.3779,\n",
       "         0.3780, 0.3794, 0.3840, 0.6886],\n",
       "        [0.5802, 0.5772, 0.5719, 0.5616, 0.5628, 0.5507, 0.5362, 0.5181, 0.4908,\n",
       "         0.4887, 0.4912, 0.4535, 0.4411, 0.4374, 0.4203, 0.4079, 0.5437, 0.5407,\n",
       "         0.5719, 0.5486, 0.5177, 0.5396, 0.5146, 0.4926, 0.4929, 0.4824, 0.4779,\n",
       "         0.4340, 0.4113, 0.4512, 0.4156, 0.3576, 0.4864, 0.4956, 0.5049, 0.4913,\n",
       "         0.4817, 0.4765, 0.4739, 0.4863, 0.4476, 0.4177, 0.4449, 0.4241, 0.4223,\n",
       "         0.3925, 0.3811, 0.3443, 0.4580, 0.4360, 0.4683, 0.4665, 0.4410, 0.4183,\n",
       "         0.4332, 0.4438, 0.3878, 0.3816, 0.3798, 0.3701, 0.3532, 0.3500, 0.3439,\n",
       "         0.3284, 0.4690, 0.4633, 0.4577, 0.4611, 0.4460, 0.4087, 0.3651, 0.3823,\n",
       "         0.3954, 0.3711, 0.3727, 0.3541, 0.3794, 0.3557, 0.3387, 0.3062, 0.4039,\n",
       "         0.3888, 0.4021, 0.4222, 0.4697, 0.4527, 0.3996, 0.4269, 0.3972, 0.3912,\n",
       "         0.3985, 0.3985, 0.4172, 0.3828, 0.3456, 0.2962, 0.3603, 0.3651, 0.4234,\n",
       "         0.4021, 0.4860, 0.4702, 0.4887, 0.4535, 0.4372, 0.4287, 0.4221, 0.4586,\n",
       "         0.4226, 0.4052, 0.3703, 0.2842, 0.3863, 0.4053, 0.4401, 0.4785, 0.5089,\n",
       "         0.4583, 0.5063, 0.5017, 0.4595, 0.4710, 0.4417, 0.4403, 0.4162, 0.3705,\n",
       "         0.3602, 0.3149, 0.3871, 0.3614, 0.3443, 0.3643, 0.3549, 0.3666, 0.3890,\n",
       "         0.4017, 0.4179, 0.3585, 0.3371, 0.3211, 0.3359, 0.3511, 0.3377, 0.3718,\n",
       "         0.3904, 0.3176, 0.3208, 0.3293, 0.3307, 0.3251, 0.3062, 0.3149, 0.3224,\n",
       "         0.3005, 0.3053, 0.3220, 0.3227, 0.3319, 0.3280, 0.3638, 0.3876, 0.3381,\n",
       "         0.2912, 0.2749, 0.2810, 0.2998, 0.2860, 0.2763, 0.2718, 0.2692, 0.2751,\n",
       "         0.2822, 0.2847, 0.3178, 0.3605, 0.4005, 0.4050, 0.3625, 0.2900, 0.2358,\n",
       "         0.2411, 0.2499, 0.2288, 0.2376, 0.2234, 0.2373, 0.2477, 0.2451, 0.2427,\n",
       "         0.2857, 0.3493, 0.4427, 0.4798, 0.4198, 0.3178, 0.2604, 0.2592, 0.2211,\n",
       "         0.1906, 0.1850, 0.1819, 0.1904, 0.1997, 0.1992, 0.2222, 0.2815, 0.3951,\n",
       "         0.4203, 0.4293, 0.4027, 0.3655, 0.3248, 0.2980, 0.2539, 0.2356, 0.2011,\n",
       "         0.1999, 0.2115, 0.2634, 0.2777, 0.2993, 0.3372, 0.3712, 0.4071, 0.4078,\n",
       "         0.4136, 0.3864, 0.3983, 0.3981, 0.3406, 0.3185, 0.2825, 0.2850, 0.3254,\n",
       "         0.3503, 0.3526, 0.3616, 0.3757, 0.3918, 0.3967, 0.4014, 0.4082, 0.4007,\n",
       "         0.3908, 0.3840, 0.3809, 0.3723, 0.3697, 0.3709, 0.3675, 0.3690, 0.3634,\n",
       "         0.3602, 0.3583, 0.3540, 0.6453]], grad_fn=<CopySlices>)"
      ]
     },
     "execution_count": 618,
     "metadata": {},
     "output_type": "execute_result"
    }
   ],
   "source": [
    "image"
   ]
  }
 ],
 "metadata": {
  "kernelspec": {
   "display_name": "Python 3",
   "language": "python",
   "name": "python3"
  },
  "language_info": {
   "codemirror_mode": {
    "name": "ipython",
    "version": 3
   },
   "file_extension": ".py",
   "mimetype": "text/x-python",
   "name": "python",
   "nbconvert_exporter": "python",
   "pygments_lexer": "ipython3",
   "version": "3.11.2"
  }
 },
 "nbformat": 4,
 "nbformat_minor": 2
}
